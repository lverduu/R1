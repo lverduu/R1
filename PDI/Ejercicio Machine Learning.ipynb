{
  "nbformat": 4,
  "nbformat_minor": 0,
  "metadata": {
    "colab": {
      "provenance": [],
      "collapsed_sections": []
    },
    "kernelspec": {
      "name": "python3",
      "display_name": "Python 3"
    },
    "language_info": {
      "name": "python"
    }
  },
  "cells": [
    {
      "cell_type": "code",
      "execution_count": 89,
      "metadata": {
        "id": "riiE_APIi-OJ"
      },
      "outputs": [],
      "source": [
        "import pandas as pd\n",
        "from sklearn.tree import DecisionTreeClassifier"
      ]
    },
    {
      "cell_type": "code",
      "source": [
        "datos = pd.read_csv(\"/content/Tarea2.0 - Hoja 1.csv\")"
      ],
      "metadata": {
        "id": "gg6BSlnvo7l5"
      },
      "execution_count": 88,
      "outputs": []
    },
    {
      "cell_type": "code",
      "source": [
        "P= datos.drop(columns = 'Clases sociales')"
      ],
      "metadata": {
        "id": "1S-Lc9MH9Mlk"
      },
      "execution_count": 90,
      "outputs": []
    },
    {
      "cell_type": "code",
      "source": [
        "L=datos['Clases sociales']"
      ],
      "metadata": {
        "id": "W5pVN5jU_tdX"
      },
      "execution_count": 91,
      "outputs": []
    },
    {
      "cell_type": "code",
      "source": [
        "modelo= DecisionTreeClassifier()\n",
        "modelo.fit(P,L)"
      ],
      "metadata": {
        "colab": {
          "base_uri": "https://localhost:8080/"
        },
        "id": "TZ6voBsJq6-U",
        "outputId": "97daa1be-fb70-4b12-e1d5-3dac0522c7a6"
      },
      "execution_count": 93,
      "outputs": [
        {
          "output_type": "execute_result",
          "data": {
            "text/plain": [
              "DecisionTreeClassifier()"
            ]
          },
          "metadata": {},
          "execution_count": 93
        }
      ]
    },
    {
      "cell_type": "code",
      "source": [
        "\n",
        "G = float(input(\"ingrese sus ganancias mensuales: \"))\n",
        "F = int (input(\"ingrese la cantidad defamiliares que vive con usted: \"))\n",
        "\n",
        "prediccion = modelo.predict([[G,F]])\n",
        "prediccion"
      ],
      "metadata": {
        "id": "lZQQd9qkA4Yy"
      },
      "execution_count": null,
      "outputs": []
    }
  ]
}